{
 "cells": [
  {
   "cell_type": "code",
   "execution_count": 2,
   "metadata": {
    "execution": {
     "iopub.execute_input": "2024-12-15T17:30:14.401695Z",
     "iopub.status.busy": "2024-12-15T17:30:14.400777Z",
     "iopub.status.idle": "2024-12-15T17:30:35.228095Z",
     "shell.execute_reply": "2024-12-15T17:30:35.227114Z",
     "shell.execute_reply.started": "2024-12-15T17:30:14.401651Z"
    },
    "trusted": true
   },
   "outputs": [],
   "source": [
    "import re\n",
    "import torch\n",
    "import pandas as pd\n",
    "from transformers import BertTokenizer, BertModel\n",
    "from torch.utils.data import Dataset\n",
    "from sklearn.model_selection import train_test_split\n",
    "from torch.utils.data import DataLoader\n",
    "import torch.nn as nn\n",
    "from sklearn.metrics import accuracy_score\n",
    "import ast\n",
    "import torch.optim as optim\n",
    "from sentence_transformers import SentenceTransformer\n",
    "import numpy as np\n",
    "from tqdm import tqdm\n",
    "from sklearn.metrics import accuracy_score, precision_score, recall_score, f1_score"
   ]
  },
  {
   "cell_type": "code",
   "execution_count": 1,
   "metadata": {
    "execution": {
     "iopub.execute_input": "2024-12-15T17:29:51.049094Z",
     "iopub.status.busy": "2024-12-15T17:29:51.048738Z",
     "iopub.status.idle": "2024-12-15T17:30:01.531675Z",
     "shell.execute_reply": "2024-12-15T17:30:01.530119Z",
     "shell.execute_reply.started": "2024-12-15T17:29:51.049044Z"
    },
    "trusted": true
   },
   "outputs": [
    {
     "name": "stdout",
     "output_type": "stream",
     "text": [
      "Collecting sentence-transformers\n",
      "  Downloading sentence_transformers-3.3.1-py3-none-any.whl.metadata (10 kB)\n",
      "Requirement already satisfied: transformers<5.0.0,>=4.41.0 in /opt/conda/lib/python3.10/site-packages (from sentence-transformers) (4.46.3)\n",
      "Requirement already satisfied: tqdm in /opt/conda/lib/python3.10/site-packages (from sentence-transformers) (4.66.4)\n",
      "Requirement already satisfied: torch>=1.11.0 in /opt/conda/lib/python3.10/site-packages (from sentence-transformers) (2.4.0)\n",
      "Requirement already satisfied: scikit-learn in /opt/conda/lib/python3.10/site-packages (from sentence-transformers) (1.2.2)\n",
      "Requirement already satisfied: scipy in /opt/conda/lib/python3.10/site-packages (from sentence-transformers) (1.14.1)\n",
      "Requirement already satisfied: huggingface-hub>=0.20.0 in /opt/conda/lib/python3.10/site-packages (from sentence-transformers) (0.26.2)\n",
      "Requirement already satisfied: Pillow in /opt/conda/lib/python3.10/site-packages (from sentence-transformers) (10.3.0)\n",
      "Requirement already satisfied: filelock in /opt/conda/lib/python3.10/site-packages (from huggingface-hub>=0.20.0->sentence-transformers) (3.15.1)\n",
      "Requirement already satisfied: fsspec>=2023.5.0 in /opt/conda/lib/python3.10/site-packages (from huggingface-hub>=0.20.0->sentence-transformers) (2024.6.0)\n",
      "Requirement already satisfied: packaging>=20.9 in /opt/conda/lib/python3.10/site-packages (from huggingface-hub>=0.20.0->sentence-transformers) (21.3)\n",
      "Requirement already satisfied: pyyaml>=5.1 in /opt/conda/lib/python3.10/site-packages (from huggingface-hub>=0.20.0->sentence-transformers) (6.0.2)\n",
      "Requirement already satisfied: requests in /opt/conda/lib/python3.10/site-packages (from huggingface-hub>=0.20.0->sentence-transformers) (2.32.3)\n",
      "Requirement already satisfied: typing-extensions>=3.7.4.3 in /opt/conda/lib/python3.10/site-packages (from huggingface-hub>=0.20.0->sentence-transformers) (4.12.2)\n",
      "Requirement already satisfied: sympy in /opt/conda/lib/python3.10/site-packages (from torch>=1.11.0->sentence-transformers) (1.13.3)\n",
      "Requirement already satisfied: networkx in /opt/conda/lib/python3.10/site-packages (from torch>=1.11.0->sentence-transformers) (3.3)\n",
      "Requirement already satisfied: jinja2 in /opt/conda/lib/python3.10/site-packages (from torch>=1.11.0->sentence-transformers) (3.1.4)\n",
      "Requirement already satisfied: numpy>=1.17 in /opt/conda/lib/python3.10/site-packages (from transformers<5.0.0,>=4.41.0->sentence-transformers) (1.26.4)\n",
      "Requirement already satisfied: regex!=2019.12.17 in /opt/conda/lib/python3.10/site-packages (from transformers<5.0.0,>=4.41.0->sentence-transformers) (2024.5.15)\n",
      "Requirement already satisfied: tokenizers<0.21,>=0.20 in /opt/conda/lib/python3.10/site-packages (from transformers<5.0.0,>=4.41.0->sentence-transformers) (0.20.3)\n",
      "Requirement already satisfied: safetensors>=0.4.1 in /opt/conda/lib/python3.10/site-packages (from transformers<5.0.0,>=4.41.0->sentence-transformers) (0.4.5)\n",
      "Requirement already satisfied: joblib>=1.1.1 in /opt/conda/lib/python3.10/site-packages (from scikit-learn->sentence-transformers) (1.4.2)\n",
      "Requirement already satisfied: threadpoolctl>=2.0.0 in /opt/conda/lib/python3.10/site-packages (from scikit-learn->sentence-transformers) (3.5.0)\n",
      "Requirement already satisfied: pyparsing!=3.0.5,>=2.0.2 in /opt/conda/lib/python3.10/site-packages (from packaging>=20.9->huggingface-hub>=0.20.0->sentence-transformers) (3.1.2)\n",
      "Requirement already satisfied: MarkupSafe>=2.0 in /opt/conda/lib/python3.10/site-packages (from jinja2->torch>=1.11.0->sentence-transformers) (2.1.5)\n",
      "Requirement already satisfied: charset-normalizer<4,>=2 in /opt/conda/lib/python3.10/site-packages (from requests->huggingface-hub>=0.20.0->sentence-transformers) (3.3.2)\n",
      "Requirement already satisfied: idna<4,>=2.5 in /opt/conda/lib/python3.10/site-packages (from requests->huggingface-hub>=0.20.0->sentence-transformers) (3.7)\n",
      "Requirement already satisfied: urllib3<3,>=1.21.1 in /opt/conda/lib/python3.10/site-packages (from requests->huggingface-hub>=0.20.0->sentence-transformers) (1.26.18)\n",
      "Requirement already satisfied: certifi>=2017.4.17 in /opt/conda/lib/python3.10/site-packages (from requests->huggingface-hub>=0.20.0->sentence-transformers) (2024.6.2)\n",
      "Requirement already satisfied: mpmath<1.4,>=1.1.0 in /opt/conda/lib/python3.10/site-packages (from sympy->torch>=1.11.0->sentence-transformers) (1.3.0)\n",
      "Downloading sentence_transformers-3.3.1-py3-none-any.whl (268 kB)\n",
      "\u001b[2K   \u001b[90m━━━━━━━━━━━━━━━━━━━━━━━━━━━━━━━━━━━━━━━━\u001b[0m \u001b[32m268.8/268.8 kB\u001b[0m \u001b[31m9.5 MB/s\u001b[0m eta \u001b[36m0:00:00\u001b[0m\n",
      "\u001b[?25hInstalling collected packages: sentence-transformers\n",
      "Successfully installed sentence-transformers-3.3.1\n"
     ]
    }
   ],
   "source": [
    "!pip install sentence-transformers"
   ]
  },
  {
   "cell_type": "code",
   "execution_count": 3,
   "metadata": {
    "execution": {
     "iopub.execute_input": "2024-12-15T17:30:47.231425Z",
     "iopub.status.busy": "2024-12-15T17:30:47.230704Z",
     "iopub.status.idle": "2024-12-15T17:30:47.460829Z",
     "shell.execute_reply": "2024-12-15T17:30:47.460040Z",
     "shell.execute_reply.started": "2024-12-15T17:30:47.231388Z"
    },
    "trusted": true
   },
   "outputs": [],
   "source": [
    "df_train = pd.read_csv('/kaggle/input/nn-text-classfication/train.csv')"
   ]
  },
  {
   "cell_type": "code",
   "execution_count": 4,
   "metadata": {
    "execution": {
     "iopub.execute_input": "2024-12-15T17:30:48.612915Z",
     "iopub.status.busy": "2024-12-15T17:30:48.612045Z",
     "iopub.status.idle": "2024-12-15T17:30:54.952027Z",
     "shell.execute_reply": "2024-12-15T17:30:54.951266Z",
     "shell.execute_reply.started": "2024-12-15T17:30:48.612878Z"
    },
    "trusted": true
   },
   "outputs": [
    {
     "data": {
      "application/vnd.jupyter.widget-view+json": {
       "model_id": "334e3372c5c4428bb198a600a0c12bc0",
       "version_major": 2,
       "version_minor": 0
      },
      "text/plain": [
       "modules.json:   0%|          | 0.00/349 [00:00<?, ?B/s]"
      ]
     },
     "metadata": {},
     "output_type": "display_data"
    },
    {
     "data": {
      "application/vnd.jupyter.widget-view+json": {
       "model_id": "129896768b7040659b0291a8cabf5067",
       "version_major": 2,
       "version_minor": 0
      },
      "text/plain": [
       "config_sentence_transformers.json:   0%|          | 0.00/116 [00:00<?, ?B/s]"
      ]
     },
     "metadata": {},
     "output_type": "display_data"
    },
    {
     "data": {
      "application/vnd.jupyter.widget-view+json": {
       "model_id": "968acdc8488b4096b423cb5569abc53f",
       "version_major": 2,
       "version_minor": 0
      },
      "text/plain": [
       "README.md:   0%|          | 0.00/10.6k [00:00<?, ?B/s]"
      ]
     },
     "metadata": {},
     "output_type": "display_data"
    },
    {
     "data": {
      "application/vnd.jupyter.widget-view+json": {
       "model_id": "f490ad9b440841d8a94d9d14ac9f56d8",
       "version_major": 2,
       "version_minor": 0
      },
      "text/plain": [
       "sentence_bert_config.json:   0%|          | 0.00/53.0 [00:00<?, ?B/s]"
      ]
     },
     "metadata": {},
     "output_type": "display_data"
    },
    {
     "data": {
      "application/vnd.jupyter.widget-view+json": {
       "model_id": "ba4baa6cac3d403698e8bb380c2525fc",
       "version_major": 2,
       "version_minor": 0
      },
      "text/plain": [
       "config.json:   0%|          | 0.00/571 [00:00<?, ?B/s]"
      ]
     },
     "metadata": {},
     "output_type": "display_data"
    },
    {
     "data": {
      "application/vnd.jupyter.widget-view+json": {
       "model_id": "67c4163555414124aae68c4b2a03d5b5",
       "version_major": 2,
       "version_minor": 0
      },
      "text/plain": [
       "model.safetensors:   0%|          | 0.00/438M [00:00<?, ?B/s]"
      ]
     },
     "metadata": {},
     "output_type": "display_data"
    },
    {
     "data": {
      "application/vnd.jupyter.widget-view+json": {
       "model_id": "955b865460d34b24967e9503ba049094",
       "version_major": 2,
       "version_minor": 0
      },
      "text/plain": [
       "tokenizer_config.json:   0%|          | 0.00/363 [00:00<?, ?B/s]"
      ]
     },
     "metadata": {},
     "output_type": "display_data"
    },
    {
     "data": {
      "application/vnd.jupyter.widget-view+json": {
       "model_id": "744a4dcf36a641dbb66cc672c7db44a6",
       "version_major": 2,
       "version_minor": 0
      },
      "text/plain": [
       "vocab.txt:   0%|          | 0.00/232k [00:00<?, ?B/s]"
      ]
     },
     "metadata": {},
     "output_type": "display_data"
    },
    {
     "data": {
      "application/vnd.jupyter.widget-view+json": {
       "model_id": "792e3f94fdf843deaba07a3ca6943a6a",
       "version_major": 2,
       "version_minor": 0
      },
      "text/plain": [
       "tokenizer.json:   0%|          | 0.00/466k [00:00<?, ?B/s]"
      ]
     },
     "metadata": {},
     "output_type": "display_data"
    },
    {
     "data": {
      "application/vnd.jupyter.widget-view+json": {
       "model_id": "247f1f09008d452eac5c3f96d9cde620",
       "version_major": 2,
       "version_minor": 0
      },
      "text/plain": [
       "special_tokens_map.json:   0%|          | 0.00/239 [00:00<?, ?B/s]"
      ]
     },
     "metadata": {},
     "output_type": "display_data"
    },
    {
     "data": {
      "application/vnd.jupyter.widget-view+json": {
       "model_id": "75c5a3f0f2ff49ee9704f89df44aa826",
       "version_major": 2,
       "version_minor": 0
      },
      "text/plain": [
       "1_Pooling/config.json:   0%|          | 0.00/190 [00:00<?, ?B/s]"
      ]
     },
     "metadata": {},
     "output_type": "display_data"
    }
   ],
   "source": [
    "model_new = SentenceTransformer('all-mpnet-base-v2', device='cuda')"
   ]
  },
  {
   "cell_type": "code",
   "execution_count": 5,
   "metadata": {
    "execution": {
     "iopub.execute_input": "2024-12-15T17:30:56.824105Z",
     "iopub.status.busy": "2024-12-15T17:30:56.823753Z",
     "iopub.status.idle": "2024-12-15T17:30:56.841208Z",
     "shell.execute_reply": "2024-12-15T17:30:56.839952Z",
     "shell.execute_reply.started": "2024-12-15T17:30:56.824076Z"
    },
    "trusted": true
   },
   "outputs": [
    {
     "data": {
      "text/html": [
       "<div>\n",
       "<style scoped>\n",
       "    .dataframe tbody tr th:only-of-type {\n",
       "        vertical-align: middle;\n",
       "    }\n",
       "\n",
       "    .dataframe tbody tr th {\n",
       "        vertical-align: top;\n",
       "    }\n",
       "\n",
       "    .dataframe thead th {\n",
       "        text-align: right;\n",
       "    }\n",
       "</style>\n",
       "<table border=\"1\" class=\"dataframe\">\n",
       "  <thead>\n",
       "    <tr style=\"text-align: right;\">\n",
       "      <th></th>\n",
       "      <th>SampleID</th>\n",
       "      <th>Discussion</th>\n",
       "      <th>Category</th>\n",
       "    </tr>\n",
       "  </thead>\n",
       "  <tbody>\n",
       "    <tr>\n",
       "      <th>0</th>\n",
       "      <td>1</td>\n",
       "      <td>Without sitting down and doing it manually, yo...</td>\n",
       "      <td>Sports</td>\n",
       "    </tr>\n",
       "    <tr>\n",
       "      <th>1</th>\n",
       "      <td>2</td>\n",
       "      <td>All your Search ends with this link.</td>\n",
       "      <td>STEM</td>\n",
       "    </tr>\n",
       "    <tr>\n",
       "      <th>2</th>\n",
       "      <td>3</td>\n",
       "      <td>No, the program you're using is made to be com...</td>\n",
       "      <td>STEM</td>\n",
       "    </tr>\n",
       "    <tr>\n",
       "      <th>3</th>\n",
       "      <td>4</td>\n",
       "      <td>Mike Woicik\\n\\nThe correct answer is: Mike Woi...</td>\n",
       "      <td>Sports</td>\n",
       "    </tr>\n",
       "    <tr>\n",
       "      <th>4</th>\n",
       "      <td>5</td>\n",
       "      <td>No, but not because of why you might think. Wh...</td>\n",
       "      <td>Politics</td>\n",
       "    </tr>\n",
       "  </tbody>\n",
       "</table>\n",
       "</div>"
      ],
      "text/plain": [
       "   SampleID                                         Discussion  Category\n",
       "0         1  Without sitting down and doing it manually, yo...    Sports\n",
       "1         2               All your Search ends with this link.      STEM\n",
       "2         3  No, the program you're using is made to be com...      STEM\n",
       "3         4  Mike Woicik\\n\\nThe correct answer is: Mike Woi...    Sports\n",
       "4         5  No, but not because of why you might think. Wh...  Politics"
      ]
     },
     "execution_count": 5,
     "metadata": {},
     "output_type": "execute_result"
    }
   ],
   "source": [
    "df_train.head()"
   ]
  },
  {
   "cell_type": "code",
   "execution_count": 6,
   "metadata": {
    "execution": {
     "iopub.execute_input": "2024-12-15T17:30:59.435580Z",
     "iopub.status.busy": "2024-12-15T17:30:59.434848Z",
     "iopub.status.idle": "2024-12-15T17:30:59.446714Z",
     "shell.execute_reply": "2024-12-15T17:30:59.445634Z",
     "shell.execute_reply.started": "2024-12-15T17:30:59.435543Z"
    },
    "trusted": true
   },
   "outputs": [],
   "source": [
    "df_train['Discussion'] = df_train['Discussion'].fillna('No Text')"
   ]
  },
  {
   "cell_type": "code",
   "execution_count": 7,
   "metadata": {
    "execution": {
     "iopub.execute_input": "2024-12-15T17:31:00.710580Z",
     "iopub.status.busy": "2024-12-15T17:31:00.710192Z",
     "iopub.status.idle": "2024-12-15T17:31:01.385426Z",
     "shell.execute_reply": "2024-12-15T17:31:01.384602Z",
     "shell.execute_reply.started": "2024-12-15T17:31:00.710550Z"
    },
    "trusted": true
   },
   "outputs": [],
   "source": [
    "def replace_dates(text):\n",
    "    date_pattern = r'\\b(\\d{1,2}-[A-Za-z]{3}|\\b[A-Za-z]+ \\d{1,2}(\\w{2})?)\\b'\n",
    "    return re.sub(date_pattern, '[DATE]', text)\n",
    "\n",
    "df_train['Discussion'] = df_train['Discussion'].apply(replace_dates)"
   ]
  },
  {
   "cell_type": "code",
   "execution_count": 8,
   "metadata": {
    "execution": {
     "iopub.execute_input": "2024-12-15T17:31:02.983201Z",
     "iopub.status.busy": "2024-12-15T17:31:02.982825Z",
     "iopub.status.idle": "2024-12-15T17:32:23.800581Z",
     "shell.execute_reply": "2024-12-15T17:32:23.799486Z",
     "shell.execute_reply.started": "2024-12-15T17:31:02.983167Z"
    },
    "trusted": true
   },
   "outputs": [
    {
     "data": {
      "application/vnd.jupyter.widget-view+json": {
       "model_id": "a2679db0a69b4a30832065cb982772af",
       "version_major": 2,
       "version_minor": 0
      },
      "text/plain": [
       "Batches:   0%|          | 0/781 [00:00<?, ?it/s]"
      ]
     },
     "metadata": {},
     "output_type": "display_data"
    },
    {
     "name": "stdout",
     "output_type": "stream",
     "text": [
      "Embeddings and labels saved successfully!\n"
     ]
    }
   ],
   "source": [
    "# Generate embeddings for the dataset\n",
    "embeddings_train = model_new.encode(df_train['Discussion'].tolist(), convert_to_tensor=True).cpu().numpy()\n",
    "\n",
    "# Save embeddings to a file\n",
    "np.save('news_embeddings_train.npy', embeddings_train)\n",
    "\n",
    "# Save corresponding labels\n",
    "df_train['Category'].to_csv('news_labels.csv', index=False)\n",
    "\n",
    "print(\"Embeddings and labels saved successfully!\")"
   ]
  },
  {
   "cell_type": "code",
   "execution_count": 9,
   "metadata": {
    "execution": {
     "iopub.execute_input": "2024-12-15T17:32:32.619099Z",
     "iopub.status.busy": "2024-12-15T17:32:32.618374Z",
     "iopub.status.idle": "2024-12-15T17:32:32.628835Z",
     "shell.execute_reply": "2024-12-15T17:32:32.627741Z",
     "shell.execute_reply.started": "2024-12-15T17:32:32.619062Z"
    },
    "trusted": true
   },
   "outputs": [],
   "source": [
    "label_mapping = {\n",
    "    'Politics': 0,\n",
    "    'Sports': 1,\n",
    "    'Media': 2,\n",
    "    'Market & Economy': 3,\n",
    "    'STEM': 4\n",
    "}\n",
    "df_train['Category']=df_train['Category'].map(label_mapping)"
   ]
  },
  {
   "cell_type": "code",
   "execution_count": 10,
   "metadata": {
    "execution": {
     "iopub.execute_input": "2024-12-15T17:32:34.012749Z",
     "iopub.status.busy": "2024-12-15T17:32:34.011816Z",
     "iopub.status.idle": "2024-12-15T17:32:34.018619Z",
     "shell.execute_reply": "2024-12-15T17:32:34.017666Z",
     "shell.execute_reply.started": "2024-12-15T17:32:34.012707Z"
    },
    "trusted": true
   },
   "outputs": [],
   "source": [
    "labels = list(df_train['Category'])"
   ]
  },
  {
   "cell_type": "code",
   "execution_count": 11,
   "metadata": {
    "execution": {
     "iopub.execute_input": "2024-12-15T17:32:35.928771Z",
     "iopub.status.busy": "2024-12-15T17:32:35.927994Z",
     "iopub.status.idle": "2024-12-15T17:32:35.934477Z",
     "shell.execute_reply": "2024-12-15T17:32:35.933440Z",
     "shell.execute_reply.started": "2024-12-15T17:32:35.928724Z"
    },
    "trusted": true
   },
   "outputs": [],
   "source": [
    "class TextDataset(Dataset):\n",
    "    def __init__(self, sentences, labels):\n",
    "        self.sentences = torch.stack([torch.tensor(x, dtype=torch.float32).unsqueeze(0) for x in sentences])\n",
    "        self.labels = torch.tensor(labels, dtype=torch.long)\n",
    "\n",
    "    def __len__(self):\n",
    "        return len(self.sentences)\n",
    "\n",
    "    def __getitem__(self, idx):\n",
    "        return self.sentences[idx], self.labels[idx]"
   ]
  },
  {
   "cell_type": "code",
   "execution_count": 12,
   "metadata": {
    "execution": {
     "iopub.execute_input": "2024-12-15T17:32:37.277566Z",
     "iopub.status.busy": "2024-12-15T17:32:37.277136Z",
     "iopub.status.idle": "2024-12-15T17:32:37.775997Z",
     "shell.execute_reply": "2024-12-15T17:32:37.775168Z",
     "shell.execute_reply.started": "2024-12-15T17:32:37.277530Z"
    },
    "trusted": true
   },
   "outputs": [],
   "source": [
    "X_train, X_val, y_train, y_val = train_test_split(embeddings_train, labels, test_size=0.2, random_state=42)\n",
    "\n",
    "train_dataset = TextDataset(X_train, y_train)\n",
    "val_dataset = TextDataset(X_val, y_val)\n",
    "\n",
    "train_dataloader = DataLoader(train_dataset, batch_size=32, shuffle=True)\n",
    "val_dataloader = DataLoader(val_dataset, batch_size=32, shuffle=False)"
   ]
  },
  {
   "cell_type": "code",
   "execution_count": 13,
   "metadata": {
    "execution": {
     "iopub.execute_input": "2024-12-15T17:32:39.712755Z",
     "iopub.status.busy": "2024-12-15T17:32:39.711873Z",
     "iopub.status.idle": "2024-12-15T17:32:39.723104Z",
     "shell.execute_reply": "2024-12-15T17:32:39.722125Z",
     "shell.execute_reply.started": "2024-12-15T17:32:39.712707Z"
    },
    "trusted": true
   },
   "outputs": [
    {
     "name": "stdout",
     "output_type": "stream",
     "text": [
      "Train batch size: 32\n",
      "Sentence shape: torch.Size([32, 1, 768])\n",
      "Labels shape: torch.Size([32])\n"
     ]
    }
   ],
   "source": [
    "for batch in train_dataloader:\n",
    "    sentences, labels = batch\n",
    "    print(f\"Train batch size: {sentences.size(0)}\")\n",
    "    print(f\"Sentence shape: {sentences.shape}\")\n",
    "    print(f\"Labels shape: {labels.shape}\")\n",
    "    break"
   ]
  },
  {
   "cell_type": "code",
   "execution_count": 14,
   "metadata": {
    "execution": {
     "iopub.execute_input": "2024-12-15T17:32:44.950708Z",
     "iopub.status.busy": "2024-12-15T17:32:44.950341Z",
     "iopub.status.idle": "2024-12-15T17:32:44.959476Z",
     "shell.execute_reply": "2024-12-15T17:32:44.958308Z",
     "shell.execute_reply.started": "2024-12-15T17:32:44.950679Z"
    },
    "trusted": true
   },
   "outputs": [],
   "source": [
    "class TextCNN(nn.Module):\n",
    "    \"\"\"\n",
    "    TextCNN model for text classification.\n",
    "    \"\"\"\n",
    "    def __init__(self, input_size, num_classes, kernel_sizes, num_filters, dropout=0.5):\n",
    "        super(TextCNN, self).__init__()\n",
    "        self.convs = nn.ModuleList([\n",
    "            nn.Sequential(\n",
    "                nn.Conv2d(1, num_filters, (k, input_size)),\n",
    "                nn.ReLU(inplace=True),\n",
    "                nn.BatchNorm2d(num_filters)\n",
    "            )\n",
    "            for k in kernel_sizes\n",
    "        ])\n",
    "        self.dropout = nn.Dropout(dropout) \n",
    "        self.fc = nn.Linear(len(kernel_sizes) * num_filters, num_classes)\n",
    "        self.init_weights()\n",
    "\n",
    "    def init_weights(self):  \n",
    "        for conv in self.convs:\n",
    "            nn.init.kaiming_uniform_(conv[0].weight, nonlinearity='relu')\n",
    "        nn.init.xavier_uniform_(self.fc.weight)\n",
    "\n",
    "    def forward(self, x):\n",
    "        x = x.unsqueeze(1)  \n",
    "        conv_outputs = [torch.relu(conv(x)).squeeze(3) for conv in self.convs]  \n",
    "        pooled_outputs = [torch.max(output, dim=2)[0] for output in conv_outputs]  \n",
    "        out = torch.cat(pooled_outputs, dim=1)  \n",
    "        out = self.dropout(out)\n",
    "        out = self.fc(out)\n",
    "        out = torch.softmax(out, dim=1)  \n",
    "        \n",
    "        return out"
   ]
  },
  {
   "cell_type": "code",
   "execution_count": 18,
   "metadata": {
    "execution": {
     "iopub.execute_input": "2024-12-15T17:33:32.934953Z",
     "iopub.status.busy": "2024-12-15T17:33:32.934022Z",
     "iopub.status.idle": "2024-12-15T17:33:32.943264Z",
     "shell.execute_reply": "2024-12-15T17:33:32.942276Z",
     "shell.execute_reply.started": "2024-12-15T17:33:32.934912Z"
    },
    "trusted": true
   },
   "outputs": [],
   "source": [
    "def train_model(\n",
    "    model, train_dataloader, optimizer, criterion, epochs=5, save_path='model.pth', scheduler=None\n",
    "):\n",
    "    model.train()\n",
    "    best_acc = 0.0\n",
    "\n",
    "    for epoch in range(epochs):\n",
    "        running_loss = 0.0\n",
    "        all_preds = []\n",
    "        all_labels = []\n",
    "\n",
    "        progress_bar = tqdm(train_dataloader, desc=f\"Epoch {epoch+1}/{epochs}\", leave=False)\n",
    "        for sentences, labels in progress_bar:\n",
    "            sentences = sentences.float().to(device)\n",
    "            labels = labels.long().to(device)\n",
    "\n",
    "            optimizer.zero_grad()\n",
    "            outputs = model(sentences)\n",
    "            loss = criterion(outputs, labels)\n",
    "            loss.backward()\n",
    "            nn.utils.clip_grad_norm_(model.parameters(), max_norm=5.0)  # Gradient clipping\n",
    "            optimizer.step()\n",
    "\n",
    "            running_loss += loss.item()\n",
    "            _, preds = torch.max(outputs, dim=1)\n",
    "            all_preds.extend(preds.cpu().numpy())\n",
    "            all_labels.extend(labels.cpu().numpy())\n",
    "\n",
    "        if scheduler:\n",
    "            scheduler.step()\n",
    "\n",
    "        epoch_loss = running_loss / len(train_dataloader)\n",
    "        epoch_acc = accuracy_score(all_labels, all_preds) * 100\n",
    "\n",
    "        print(\n",
    "            f\"Epoch [{epoch+1}/{epochs}] \"\n",
    "            f\"Loss: {epoch_loss:.4f} | Accuracy: {epoch_acc:.2f}%\"\n",
    "        )\n",
    "\n",
    "        # Save the best model\n",
    "        if epoch_acc > best_acc:\n",
    "            best_acc = epoch_acc\n",
    "            torch.save(model.state_dict(), save_path)\n",
    "            print(f\"Model saved to {save_path} (Best Accuracy: {best_acc:.2f}%)\")\n",
    "\n",
    "    print(\"Training complete.\")"
   ]
  },
  {
   "cell_type": "code",
   "execution_count": 16,
   "metadata": {
    "execution": {
     "iopub.execute_input": "2024-12-15T17:32:50.581400Z",
     "iopub.status.busy": "2024-12-15T17:32:50.580986Z",
     "iopub.status.idle": "2024-12-15T17:32:50.587671Z",
     "shell.execute_reply": "2024-12-15T17:32:50.586641Z",
     "shell.execute_reply.started": "2024-12-15T17:32:50.581364Z"
    },
    "trusted": true
   },
   "outputs": [],
   "source": [
    "# Validation function\n",
    "def val_model(model, val_dataloader):\n",
    "    model.eval()\n",
    "    all_preds = []\n",
    "    all_labels = []\n",
    "\n",
    "    with torch.no_grad():\n",
    "        for sentences, labels in val_dataloader:\n",
    "            sentences = sentences.float().to(device)\n",
    "            labels = labels.long().to(device)\n",
    "            outputs = model(sentences)\n",
    "            _, preds = torch.max(outputs, dim=1)\n",
    "            all_preds.extend(preds.cpu().numpy())\n",
    "            all_labels.extend(labels.cpu().numpy())\n",
    "\n",
    "    accuracy = accuracy_score(all_labels, all_preds)\n",
    "    print(f\"Validation Accuracy: {accuracy * 100:.2f}%\")\n",
    "    return accuracy"
   ]
  },
  {
   "cell_type": "code",
   "execution_count": 17,
   "metadata": {
    "execution": {
     "iopub.execute_input": "2024-12-15T17:32:55.533054Z",
     "iopub.status.busy": "2024-12-15T17:32:55.532416Z",
     "iopub.status.idle": "2024-12-15T17:32:55.544555Z",
     "shell.execute_reply": "2024-12-15T17:32:55.543553Z",
     "shell.execute_reply.started": "2024-12-15T17:32:55.533015Z"
    },
    "trusted": true
   },
   "outputs": [],
   "source": [
    "input_size = 768 \n",
    "num_classes = len(set(labels))  \n",
    "kernel_sizes = [1]  \n",
    "num_filters = 128 \n",
    "dropout = 0.7      \n",
    "learning_rate = 0.001\n",
    "epochs = 30\n",
    "\n",
    "device = torch.device('cuda' if torch.cuda.is_available() else 'cpu') \n",
    "\n",
    "\n",
    "model = TextCNN(input_size, num_classes, kernel_sizes, num_filters, dropout).to(device)\n",
    "\n",
    "criterion = nn.CrossEntropyLoss()  \n",
    "optimizer = optim.AdamW(model.parameters(), lr=learning_rate)\n",
    "scheduler = optim.lr_scheduler.StepLR(optimizer, step_size=10, gamma=0.5)"
   ]
  },
  {
   "cell_type": "code",
   "execution_count": 19,
   "metadata": {
    "execution": {
     "iopub.execute_input": "2024-12-15T17:33:36.422056Z",
     "iopub.status.busy": "2024-12-15T17:33:36.421683Z",
     "iopub.status.idle": "2024-12-15T17:34:27.026567Z",
     "shell.execute_reply": "2024-12-15T17:34:27.025607Z",
     "shell.execute_reply.started": "2024-12-15T17:33:36.422024Z"
    },
    "trusted": true
   },
   "outputs": [
    {
     "name": "stderr",
     "output_type": "stream",
     "text": [
      "                                                              \r"
     ]
    },
    {
     "name": "stdout",
     "output_type": "stream",
     "text": [
      "Epoch [1/30] Loss: 1.1490 | Accuracy: 64.36%\n",
      "Model saved to textcnn.pth (Best Accuracy: 64.36%)\n"
     ]
    },
    {
     "name": "stderr",
     "output_type": "stream",
     "text": [
      "                                                              \r"
     ]
    },
    {
     "name": "stdout",
     "output_type": "stream",
     "text": [
      "Epoch [2/30] Loss: 0.7514 | Accuracy: 74.03%\n",
      "Model saved to textcnn.pth (Best Accuracy: 74.03%)\n"
     ]
    },
    {
     "name": "stderr",
     "output_type": "stream",
     "text": [
      "                                                              \r"
     ]
    },
    {
     "name": "stdout",
     "output_type": "stream",
     "text": [
      "Epoch [3/30] Loss: 0.7065 | Accuracy: 75.33%\n",
      "Model saved to textcnn.pth (Best Accuracy: 75.33%)\n"
     ]
    },
    {
     "name": "stderr",
     "output_type": "stream",
     "text": [
      "                                                              \r"
     ]
    },
    {
     "name": "stdout",
     "output_type": "stream",
     "text": [
      "Epoch [4/30] Loss: 0.6819 | Accuracy: 76.15%\n",
      "Model saved to textcnn.pth (Best Accuracy: 76.15%)\n"
     ]
    },
    {
     "name": "stderr",
     "output_type": "stream",
     "text": [
      "                                                              \r"
     ]
    },
    {
     "name": "stdout",
     "output_type": "stream",
     "text": [
      "Epoch [5/30] Loss: 0.6595 | Accuracy: 76.52%\n",
      "Model saved to textcnn.pth (Best Accuracy: 76.52%)\n"
     ]
    },
    {
     "name": "stderr",
     "output_type": "stream",
     "text": [
      "                                                              \r"
     ]
    },
    {
     "name": "stdout",
     "output_type": "stream",
     "text": [
      "Epoch [6/30] Loss: 0.6478 | Accuracy: 76.78%\n",
      "Model saved to textcnn.pth (Best Accuracy: 76.78%)\n"
     ]
    },
    {
     "name": "stderr",
     "output_type": "stream",
     "text": [
      "                                                              \r"
     ]
    },
    {
     "name": "stdout",
     "output_type": "stream",
     "text": [
      "Epoch [7/30] Loss: 0.6361 | Accuracy: 77.29%\n",
      "Model saved to textcnn.pth (Best Accuracy: 77.29%)\n"
     ]
    },
    {
     "name": "stderr",
     "output_type": "stream",
     "text": [
      "                                                              \r"
     ]
    },
    {
     "name": "stdout",
     "output_type": "stream",
     "text": [
      "Epoch [8/30] Loss: 0.6238 | Accuracy: 77.55%\n",
      "Model saved to textcnn.pth (Best Accuracy: 77.55%)\n"
     ]
    },
    {
     "name": "stderr",
     "output_type": "stream",
     "text": [
      "                                                              \r"
     ]
    },
    {
     "name": "stdout",
     "output_type": "stream",
     "text": [
      "Epoch [9/30] Loss: 0.6218 | Accuracy: 77.72%\n",
      "Model saved to textcnn.pth (Best Accuracy: 77.72%)\n"
     ]
    },
    {
     "name": "stderr",
     "output_type": "stream",
     "text": [
      "                                                               \r"
     ]
    },
    {
     "name": "stdout",
     "output_type": "stream",
     "text": [
      "Epoch [10/30] Loss: 0.6061 | Accuracy: 78.25%\n",
      "Model saved to textcnn.pth (Best Accuracy: 78.25%)\n"
     ]
    },
    {
     "name": "stderr",
     "output_type": "stream",
     "text": [
      "                                                               \r"
     ]
    },
    {
     "name": "stdout",
     "output_type": "stream",
     "text": [
      "Epoch [11/30] Loss: 0.5836 | Accuracy: 79.00%\n",
      "Model saved to textcnn.pth (Best Accuracy: 79.00%)\n"
     ]
    },
    {
     "name": "stderr",
     "output_type": "stream",
     "text": [
      "                                                               \r"
     ]
    },
    {
     "name": "stdout",
     "output_type": "stream",
     "text": [
      "Epoch [12/30] Loss: 0.5714 | Accuracy: 79.36%\n",
      "Model saved to textcnn.pth (Best Accuracy: 79.36%)\n"
     ]
    },
    {
     "name": "stderr",
     "output_type": "stream",
     "text": [
      "                                                               \r"
     ]
    },
    {
     "name": "stdout",
     "output_type": "stream",
     "text": [
      "Epoch [13/30] Loss: 0.5629 | Accuracy: 79.48%\n",
      "Model saved to textcnn.pth (Best Accuracy: 79.48%)\n"
     ]
    },
    {
     "name": "stderr",
     "output_type": "stream",
     "text": [
      "                                                               \r"
     ]
    },
    {
     "name": "stdout",
     "output_type": "stream",
     "text": [
      "Epoch [14/30] Loss: 0.5523 | Accuracy: 79.79%\n",
      "Model saved to textcnn.pth (Best Accuracy: 79.79%)\n"
     ]
    },
    {
     "name": "stderr",
     "output_type": "stream",
     "text": [
      "                                                               \r"
     ]
    },
    {
     "name": "stdout",
     "output_type": "stream",
     "text": [
      "Epoch [15/30] Loss: 0.5433 | Accuracy: 80.38%\n",
      "Model saved to textcnn.pth (Best Accuracy: 80.38%)\n"
     ]
    },
    {
     "name": "stderr",
     "output_type": "stream",
     "text": [
      "                                                               \r"
     ]
    },
    {
     "name": "stdout",
     "output_type": "stream",
     "text": [
      "Epoch [16/30] Loss: 0.5416 | Accuracy: 80.12%\n"
     ]
    },
    {
     "name": "stderr",
     "output_type": "stream",
     "text": [
      "                                                               \r"
     ]
    },
    {
     "name": "stdout",
     "output_type": "stream",
     "text": [
      "Epoch [17/30] Loss: 0.5349 | Accuracy: 80.50%\n",
      "Model saved to textcnn.pth (Best Accuracy: 80.50%)\n"
     ]
    },
    {
     "name": "stderr",
     "output_type": "stream",
     "text": [
      "                                                               \r"
     ]
    },
    {
     "name": "stdout",
     "output_type": "stream",
     "text": [
      "Epoch [18/30] Loss: 0.5286 | Accuracy: 80.63%\n",
      "Model saved to textcnn.pth (Best Accuracy: 80.63%)\n"
     ]
    },
    {
     "name": "stderr",
     "output_type": "stream",
     "text": [
      "                                                               \r"
     ]
    },
    {
     "name": "stdout",
     "output_type": "stream",
     "text": [
      "Epoch [19/30] Loss: 0.5216 | Accuracy: 80.81%\n",
      "Model saved to textcnn.pth (Best Accuracy: 80.81%)\n"
     ]
    },
    {
     "name": "stderr",
     "output_type": "stream",
     "text": [
      "                                                               \r"
     ]
    },
    {
     "name": "stdout",
     "output_type": "stream",
     "text": [
      "Epoch [20/30] Loss: 0.5187 | Accuracy: 81.12%\n",
      "Model saved to textcnn.pth (Best Accuracy: 81.12%)\n"
     ]
    },
    {
     "name": "stderr",
     "output_type": "stream",
     "text": [
      "                                                               \r"
     ]
    },
    {
     "name": "stdout",
     "output_type": "stream",
     "text": [
      "Epoch [21/30] Loss: 0.5086 | Accuracy: 81.16%\n",
      "Model saved to textcnn.pth (Best Accuracy: 81.16%)\n"
     ]
    },
    {
     "name": "stderr",
     "output_type": "stream",
     "text": [
      "                                                               \r"
     ]
    },
    {
     "name": "stdout",
     "output_type": "stream",
     "text": [
      "Epoch [22/30] Loss: 0.4906 | Accuracy: 81.68%\n",
      "Model saved to textcnn.pth (Best Accuracy: 81.68%)\n"
     ]
    },
    {
     "name": "stderr",
     "output_type": "stream",
     "text": [
      "                                                               \r"
     ]
    },
    {
     "name": "stdout",
     "output_type": "stream",
     "text": [
      "Epoch [23/30] Loss: 0.4922 | Accuracy: 81.81%\n",
      "Model saved to textcnn.pth (Best Accuracy: 81.81%)\n"
     ]
    },
    {
     "name": "stderr",
     "output_type": "stream",
     "text": [
      "                                                               \r"
     ]
    },
    {
     "name": "stdout",
     "output_type": "stream",
     "text": [
      "Epoch [24/30] Loss: 0.4829 | Accuracy: 82.29%\n",
      "Model saved to textcnn.pth (Best Accuracy: 82.29%)\n"
     ]
    },
    {
     "name": "stderr",
     "output_type": "stream",
     "text": [
      "                                                               \r"
     ]
    },
    {
     "name": "stdout",
     "output_type": "stream",
     "text": [
      "Epoch [25/30] Loss: 0.4772 | Accuracy: 82.33%\n",
      "Model saved to textcnn.pth (Best Accuracy: 82.33%)\n"
     ]
    },
    {
     "name": "stderr",
     "output_type": "stream",
     "text": [
      "                                                               \r"
     ]
    },
    {
     "name": "stdout",
     "output_type": "stream",
     "text": [
      "Epoch [26/30] Loss: 0.4741 | Accuracy: 82.44%\n",
      "Model saved to textcnn.pth (Best Accuracy: 82.44%)\n"
     ]
    },
    {
     "name": "stderr",
     "output_type": "stream",
     "text": [
      "                                                               \r"
     ]
    },
    {
     "name": "stdout",
     "output_type": "stream",
     "text": [
      "Epoch [27/30] Loss: 0.4671 | Accuracy: 82.58%\n",
      "Model saved to textcnn.pth (Best Accuracy: 82.58%)\n"
     ]
    },
    {
     "name": "stderr",
     "output_type": "stream",
     "text": [
      "                                                               \r"
     ]
    },
    {
     "name": "stdout",
     "output_type": "stream",
     "text": [
      "Epoch [28/30] Loss: 0.4672 | Accuracy: 82.60%\n",
      "Model saved to textcnn.pth (Best Accuracy: 82.60%)\n"
     ]
    },
    {
     "name": "stderr",
     "output_type": "stream",
     "text": [
      "                                                               \r"
     ]
    },
    {
     "name": "stdout",
     "output_type": "stream",
     "text": [
      "Epoch [29/30] Loss: 0.4662 | Accuracy: 82.83%\n",
      "Model saved to textcnn.pth (Best Accuracy: 82.83%)\n"
     ]
    },
    {
     "name": "stderr",
     "output_type": "stream",
     "text": [
      "                                                               \r"
     ]
    },
    {
     "name": "stdout",
     "output_type": "stream",
     "text": [
      "Epoch [30/30] Loss: 0.4599 | Accuracy: 82.88%\n",
      "Model saved to textcnn.pth (Best Accuracy: 82.88%)\n",
      "Training complete.\n",
      "Validation Accuracy: 78.57%\n"
     ]
    },
    {
     "data": {
      "text/plain": [
       "0.7857142857142857"
      ]
     },
     "execution_count": 19,
     "metadata": {},
     "output_type": "execute_result"
    }
   ],
   "source": [
    "# Train and validate\n",
    "train_model(model, train_dataloader, optimizer, criterion, epochs=epochs, save_path='textcnn.pth', scheduler=scheduler)\n",
    "val_model(model, val_dataloader)"
   ]
  },
  {
   "cell_type": "code",
   "execution_count": 20,
   "metadata": {
    "execution": {
     "iopub.execute_input": "2024-12-15T17:34:32.885656Z",
     "iopub.status.busy": "2024-12-15T17:34:32.885246Z",
     "iopub.status.idle": "2024-12-15T17:34:32.983882Z",
     "shell.execute_reply": "2024-12-15T17:34:32.982990Z",
     "shell.execute_reply.started": "2024-12-15T17:34:32.885621Z"
    },
    "trusted": true
   },
   "outputs": [],
   "source": [
    "df_test=pd.read_csv('/kaggle/input/nn-text-cSlassfication/test.csv')"
   ]
  },
  {
   "cell_type": "code",
   "execution_count": 21,
   "metadata": {
    "execution": {
     "iopub.execute_input": "2024-12-15T17:34:34.411489Z",
     "iopub.status.busy": "2024-12-15T17:34:34.411116Z",
     "iopub.status.idle": "2024-12-15T17:34:34.419012Z",
     "shell.execute_reply": "2024-12-15T17:34:34.417908Z",
     "shell.execute_reply.started": "2024-12-15T17:34:34.411456Z"
    },
    "trusted": true
   },
   "outputs": [],
   "source": [
    "df_test['Discussion'] = df_test['Discussion'].fillna('No Text')"
   ]
  },
  {
   "cell_type": "code",
   "execution_count": 22,
   "metadata": {
    "execution": {
     "iopub.execute_input": "2024-12-15T17:34:36.179368Z",
     "iopub.status.busy": "2024-12-15T17:34:36.178572Z",
     "iopub.status.idle": "2024-12-15T17:34:36.357033Z",
     "shell.execute_reply": "2024-12-15T17:34:36.356286Z",
     "shell.execute_reply.started": "2024-12-15T17:34:36.179334Z"
    },
    "trusted": true
   },
   "outputs": [],
   "source": [
    "def replace_dates(text):\n",
    "    date_pattern = r'\\b(\\d{1,2}-[A-Za-z]{3}|\\b[A-Za-z]+ \\d{1,2}(\\w{2})?)\\b'\n",
    "    return re.sub(date_pattern, '[DATE]', text)\n",
    "\n",
    "df_test['Discussion'] = df_test['Discussion'].apply(replace_dates)"
   ]
  },
  {
   "cell_type": "code",
   "execution_count": 23,
   "metadata": {
    "execution": {
     "iopub.execute_input": "2024-12-15T17:34:38.171394Z",
     "iopub.status.busy": "2024-12-15T17:34:38.170480Z",
     "iopub.status.idle": "2024-12-15T17:35:12.631763Z",
     "shell.execute_reply": "2024-12-15T17:35:12.630748Z",
     "shell.execute_reply.started": "2024-12-15T17:34:38.171355Z"
    },
    "trusted": true
   },
   "outputs": [
    {
     "data": {
      "application/vnd.jupyter.widget-view+json": {
       "model_id": "f533214b122a4460a6bb673f52733bb6",
       "version_major": 2,
       "version_minor": 0
      },
      "text/plain": [
       "Batches:   0%|          | 0/330 [00:00<?, ?it/s]"
      ]
     },
     "metadata": {},
     "output_type": "display_data"
    },
    {
     "name": "stdout",
     "output_type": "stream",
     "text": [
      "Embeddings and labels saved successfully!\n"
     ]
    }
   ],
   "source": [
    "# Generate embeddings for the dataset\n",
    "embeddings_test = model_new.encode(df_test['Discussion'].tolist(), convert_to_tensor=True).cpu().numpy()\n",
    "\n",
    "# Save embeddings to a file\n",
    "np.save('news_embeddings_train.npy', embeddings_test)\n",
    "\n",
    "print(\"Embeddings and labels saved successfully!\")"
   ]
  },
  {
   "cell_type": "code",
   "execution_count": 24,
   "metadata": {
    "execution": {
     "iopub.execute_input": "2024-12-15T17:35:15.034485Z",
     "iopub.status.busy": "2024-12-15T17:35:15.034112Z",
     "iopub.status.idle": "2024-12-15T17:35:15.040150Z",
     "shell.execute_reply": "2024-12-15T17:35:15.039228Z",
     "shell.execute_reply.started": "2024-12-15T17:35:15.034453Z"
    },
    "trusted": true
   },
   "outputs": [],
   "source": [
    "class CustomDataset(Dataset):\n",
    "    def __init__(self, sentences, sample_ids):\n",
    "        self.sentences = torch.stack([torch.tensor(x, dtype=torch.float32).unsqueeze(0) for x in sentences])\n",
    "        self.sample_ids = torch.tensor(sample_ids, dtype=torch.long)\n",
    "\n",
    "    def __len__(self):\n",
    "        return len(self.sentences)\n",
    "\n",
    "    def __getitem__(self, idx):\n",
    "        return self.sentences[idx], self.sample_ids[idx]"
   ]
  },
  {
   "cell_type": "code",
   "execution_count": 25,
   "metadata": {
    "execution": {
     "iopub.execute_input": "2024-12-15T17:35:16.651451Z",
     "iopub.status.busy": "2024-12-15T17:35:16.650627Z",
     "iopub.status.idle": "2024-12-15T17:35:16.843402Z",
     "shell.execute_reply": "2024-12-15T17:35:16.842609Z",
     "shell.execute_reply.started": "2024-12-15T17:35:16.651413Z"
    },
    "trusted": true
   },
   "outputs": [],
   "source": [
    "test_dataset = CustomDataset(embeddings_test, df_test['SampleID'])\n",
    "test_dataloader = DataLoader(test_dataset, batch_size=32, shuffle=False)"
   ]
  },
  {
   "cell_type": "code",
   "execution_count": 26,
   "metadata": {
    "execution": {
     "iopub.execute_input": "2024-12-15T17:35:19.443872Z",
     "iopub.status.busy": "2024-12-15T17:35:19.443477Z",
     "iopub.status.idle": "2024-12-15T17:35:19.448559Z",
     "shell.execute_reply": "2024-12-15T17:35:19.447439Z",
     "shell.execute_reply.started": "2024-12-15T17:35:19.443839Z"
    },
    "trusted": true
   },
   "outputs": [],
   "source": [
    "save_csv_path = '/kaggle/working/predictions_text_trial.csv'"
   ]
  },
  {
   "cell_type": "code",
   "execution_count": 27,
   "metadata": {
    "execution": {
     "iopub.execute_input": "2024-12-15T17:35:21.346897Z",
     "iopub.status.busy": "2024-12-15T17:35:21.346089Z",
     "iopub.status.idle": "2024-12-15T17:35:21.353273Z",
     "shell.execute_reply": "2024-12-15T17:35:21.352168Z",
     "shell.execute_reply.started": "2024-12-15T17:35:21.346855Z"
    },
    "trusted": true
   },
   "outputs": [],
   "source": [
    "def test_model(model, val_dataloader, save_csv_path='predictions.csv', device='cuda'):\n",
    "    model.eval()  # Set model to evaluation mode\n",
    "    all_preds = []\n",
    "    sample_ids = []  # To store sample IDs\n",
    "\n",
    "    with torch.no_grad():\n",
    "        for sentences, ids in val_dataloader:  # Extract sentences and IDs from DataLoader\n",
    "            sentences = sentences.float().to(device)  # Move sentences to GPU (or CPU if needed)\n",
    "            outputs = model(sentences)\n",
    "            _, preds = torch.max(outputs, dim=1)\n",
    "\n",
    "            all_preds.extend(preds.cpu().numpy())  # Move predictions back to CPU\n",
    "            sample_ids.extend(ids.numpy())  # Collect the sample IDs\n",
    "\n",
    "    # Save predictions to a CSV file\n",
    "    predictions_df = pd.DataFrame({\n",
    "        'SampleID': sample_ids,\n",
    "        'Category': all_preds\n",
    "    })\n",
    "    predictions_df.to_csv(save_csv_path, index=False)\n",
    "    print(f\"Predictions saved to {save_csv_path}\")\n",
    "    \n",
    "    return predictions_df"
   ]
  },
  {
   "cell_type": "code",
   "execution_count": 28,
   "metadata": {
    "execution": {
     "iopub.execute_input": "2024-12-15T17:35:23.386408Z",
     "iopub.status.busy": "2024-12-15T17:35:23.385352Z",
     "iopub.status.idle": "2024-12-15T17:35:23.737140Z",
     "shell.execute_reply": "2024-12-15T17:35:23.736187Z",
     "shell.execute_reply.started": "2024-12-15T17:35:23.386361Z"
    },
    "trusted": true
   },
   "outputs": [
    {
     "name": "stdout",
     "output_type": "stream",
     "text": [
      "Predictions saved to /kaggle/working/predictions_text_trial.csv\n"
     ]
    },
    {
     "data": {
      "text/html": [
       "<div>\n",
       "<style scoped>\n",
       "    .dataframe tbody tr th:only-of-type {\n",
       "        vertical-align: middle;\n",
       "    }\n",
       "\n",
       "    .dataframe tbody tr th {\n",
       "        vertical-align: top;\n",
       "    }\n",
       "\n",
       "    .dataframe thead th {\n",
       "        text-align: right;\n",
       "    }\n",
       "</style>\n",
       "<table border=\"1\" class=\"dataframe\">\n",
       "  <thead>\n",
       "    <tr style=\"text-align: right;\">\n",
       "      <th></th>\n",
       "      <th>SampleID</th>\n",
       "      <th>Category</th>\n",
       "    </tr>\n",
       "  </thead>\n",
       "  <tbody>\n",
       "    <tr>\n",
       "      <th>0</th>\n",
       "      <td>1</td>\n",
       "      <td>3</td>\n",
       "    </tr>\n",
       "    <tr>\n",
       "      <th>1</th>\n",
       "      <td>2</td>\n",
       "      <td>0</td>\n",
       "    </tr>\n",
       "    <tr>\n",
       "      <th>2</th>\n",
       "      <td>3</td>\n",
       "      <td>1</td>\n",
       "    </tr>\n",
       "    <tr>\n",
       "      <th>3</th>\n",
       "      <td>4</td>\n",
       "      <td>4</td>\n",
       "    </tr>\n",
       "    <tr>\n",
       "      <th>4</th>\n",
       "      <td>5</td>\n",
       "      <td>3</td>\n",
       "    </tr>\n",
       "    <tr>\n",
       "      <th>...</th>\n",
       "      <td>...</td>\n",
       "      <td>...</td>\n",
       "    </tr>\n",
       "    <tr>\n",
       "      <th>10552</th>\n",
       "      <td>10553</td>\n",
       "      <td>4</td>\n",
       "    </tr>\n",
       "    <tr>\n",
       "      <th>10553</th>\n",
       "      <td>10554</td>\n",
       "      <td>3</td>\n",
       "    </tr>\n",
       "    <tr>\n",
       "      <th>10554</th>\n",
       "      <td>10555</td>\n",
       "      <td>3</td>\n",
       "    </tr>\n",
       "    <tr>\n",
       "      <th>10555</th>\n",
       "      <td>10556</td>\n",
       "      <td>3</td>\n",
       "    </tr>\n",
       "    <tr>\n",
       "      <th>10556</th>\n",
       "      <td>10557</td>\n",
       "      <td>2</td>\n",
       "    </tr>\n",
       "  </tbody>\n",
       "</table>\n",
       "<p>10557 rows × 2 columns</p>\n",
       "</div>"
      ],
      "text/plain": [
       "       SampleID  Category\n",
       "0             1         3\n",
       "1             2         0\n",
       "2             3         1\n",
       "3             4         4\n",
       "4             5         3\n",
       "...         ...       ...\n",
       "10552     10553         4\n",
       "10553     10554         3\n",
       "10554     10555         3\n",
       "10555     10556         3\n",
       "10556     10557         2\n",
       "\n",
       "[10557 rows x 2 columns]"
      ]
     },
     "execution_count": 28,
     "metadata": {},
     "output_type": "execute_result"
    }
   ],
   "source": [
    "test_model(model, test_dataloader, save_csv_path)"
   ]
  }
 ],
 "metadata": {
  "kaggle": {
   "accelerator": "gpu",
   "dataSources": [
    {
     "datasetId": 6221550,
     "sourceId": 10089847,
     "sourceType": "datasetVersion"
    },
    {
     "datasetId": 6231957,
     "sourceId": 10103467,
     "sourceType": "datasetVersion"
    },
    {
     "datasetId": 6240198,
     "sourceId": 10114239,
     "sourceType": "datasetVersion"
    }
   ],
   "dockerImageVersionId": 30805,
   "isGpuEnabled": true,
   "isInternetEnabled": true,
   "language": "python",
   "sourceType": "notebook"
  },
  "kernelspec": {
   "display_name": "Python 3",
   "language": "python",
   "name": "python3"
  },
  "language_info": {
   "codemirror_mode": {
    "name": "ipython",
    "version": 3
   },
   "file_extension": ".py",
   "mimetype": "text/x-python",
   "name": "python",
   "nbconvert_exporter": "python",
   "pygments_lexer": "ipython3",
   "version": "3.10.14"
  }
 },
 "nbformat": 4,
 "nbformat_minor": 4
}
